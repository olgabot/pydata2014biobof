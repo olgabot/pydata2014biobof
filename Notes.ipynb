{
 "metadata": {
  "name": "",
  "signature": "sha256:fc08b328a4531cb6423cc2e7c7ec6c7744ac5448b5f93ebffdeab75cdcb3fa29"
 },
 "nbformat": 3,
 "nbformat_minor": 0,
 "worksheets": [
  {
   "cells": [
    {
     "cell_type": "markdown",
     "metadata": {},
     "source": [
      "* Eddy: Interested in bio data. Neuro marketing instead of surveys. Quantified self.\n",
      "* Ashlee: PhD student in Columbia (microbio, immunology, infection). developing tools to detect drug binding pockets/motifs. Monitoring viral evolution to resistance. RNA viruses (quasi species with lots of variability)\n",
      "* Steve: Computational neuroimaging lab. Develop tools to help neuroscientits with fMRI\n",
      "* Jeff: Mechanical engineering/general interest\n",
      "* Zdenka (czech republic):  interested in biology for phd, background in CS\n",
      "* Emily: Product analyst, studied math/CS. interested in bioinf for mental illness\n",
      "* Todd: Lab manager/research assistant in cardioneurosci lab. decision neuro sci, econ, computational neurosci\n",
      "* Matt: Hardware engineer. Lots of different disciplines in biology. \n",
      "* Josh: Comp biophysics. How specific proteins work and methods development. How to sample rare events in biological systems\n",
      "* Kyle: Research fellow at MSKCC: ditto Josh\n",
      "* Stefan: data quality, play with multi agent based simulations and try to create a language for easier modeling.\n",
      "* Paul: data interest/hobby"
     ]
    },
    {
     "cell_type": "markdown",
     "metadata": {},
     "source": [
      "Groups:\n",
      "    \n",
      "* Neurosci\n",
      "* chemical biology\n",
      "* cell/comp/molecular biology"
     ]
    },
    {
     "cell_type": "code",
     "collapsed": false,
     "input": [],
     "language": "python",
     "metadata": {},
     "outputs": []
    }
   ],
   "metadata": {}
  }
 ]
}